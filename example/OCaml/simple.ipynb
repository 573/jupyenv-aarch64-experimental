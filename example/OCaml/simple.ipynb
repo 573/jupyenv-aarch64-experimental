{
 "cells": [
{
   "cell_type": "code",
   "execution_count": null,
   "metadata": {},
   "outputs": [],
   "source": [
    "print_endline \"Bonjour depuis OCaml !\";;"
   ]
  },
  {
   "cell_type": "code",
   "execution_count": null,
   "metadata": {},
   "outputs": [],
   "source": []
  }
 ],
 "metadata": {
  "kernelspec": {
   "display_name": "OCaml - nixpkgs",
   "language": "OCaml",
   "name": "ocaml_nixpkgs"
  },
  "language_info": {
   "codemirror_mode": "ocaml",
   "file_extension": ".ml",
   "mimetype": "text/ocaml-source",
   "name": "OCaml",
   "pygment_lexer": "ocaml",
   "version": ""
  }
 },
 "nbformat": 4,
 "nbformat_minor": 4
}
