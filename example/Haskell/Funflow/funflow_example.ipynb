{
 "cells": [
  {
   "cell_type": "code",
   "execution_count": null,
   "metadata": {},
   "outputs": [
    {
     "data": {
      "text/plain": [
       "Hi, what's your name?\n",
       "[2019-01-24 15:43:12][FFExecutorD.executeLoop][Info][matto-dell][24475][ThreadId 198][funflow-1.4.0-KLdImYfU5mYAAbPXU2bOEB:Control.Funflow.External.Executor src/Control/Funflow/External/Executor.hs:181:9] Initialising connection to coordinator."
      ]
     },
     "metadata": {},
     "output_type": "display_data"
    }
   ],
   "source": [
    ":e Arrows\n",
    ":e QuasiQuotes\n",
    "import Control.Arrow\n",
    "import Control.Funflow\n",
    "import Control.Funflow.Exec.Simple (withSimpleLocalRunner)\n",
    "import Data.Default\n",
    "import Path\n",
    "\n",
    "-- | Flow which asks for the user's name, then their favourite number.\n",
    "--   The favourite number will be cached, such that if the user comes back,\n",
    "--   they will not be asked again.\n",
    "favouriteNumber :: SimpleFlow () (String, String)\n",
    "favouriteNumber = proc () -> do\n",
    "    name <- stepIO (\\_ -> putStrLn \"Hi, what's your name?\" >> getLine) -< ()\n",
    "    -- We enable caching for this step. The default cacher uses 'Store' instances\n",
    "    -- to provide serialisation/deserialisation. The ident is used to ensure that\n",
    "    -- multiple different steps with the same input do not resolve to the same\n",
    "    -- cache item.\n",
    "    fnum <- stepIO' (def { cache = defaultCacherWithIdent 172652 })\n",
    "                  (\\_ -> putStrLn \"What's your favourite number?\" >> getLine) -< name\n",
    "    returnA -< (name, fnum)\n",
    "\n",
    "-- | Runs the 'favourite number' flow in IO.\n",
    "\n",
    "-- Use /tmp/funflow as the path to our content store.\n",
    "-- | Runs the 'favourite number' flow in IO.\n",
    "runFavouriteNumber :: IO ()\n",
    "runFavouriteNumber = do\n",
    "  -- Use /tmp/funflow as the path to our content store.\n",
    "  res <- withSimpleLocalRunner [absdir|/tmp/funflow|] $ \\run ->\n",
    "    -- 'run' takes the flow and the initial input. Since this flow has an input type of '()',\n",
    "    -- this is what we provide.\n",
    "    run favouriteNumber ()\n",
    "  case res of\n",
    "    Left err -> putStrLn $ \"Something went wrong: \" ++ show err\n",
    "    Right (name, num) -> putStrLn $ \"Hi, \" ++ name ++ \", your favourite number is \" ++ num\n",
    "    \n",
    "runFavouriteNumber"
   ]
  }
 ],
 "metadata": {
  "kernelspec": {
   "display_name": "Haskell - Funflow",
   "language": "haskell",
   "name": "ihaskell_funflow"
  },
  "language_info": {
   "codemirror_mode": "ihaskell",
   "file_extension": ".hs",
   "name": "haskell",
   "pygments_lexer": "Haskell",
   "version": "8.4.4"
  }
 },
 "nbformat": 4,
 "nbformat_minor": 2
}
