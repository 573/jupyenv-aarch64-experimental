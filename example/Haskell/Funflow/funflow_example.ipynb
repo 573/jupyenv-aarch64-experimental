{
 "cells": [
  {
   "cell_type": "code",
   "execution_count": null,
   "metadata": {},
   "outputs": [
    {
     "data": {
      "text/plain": [
       "Hi, what's your name?\n",
       "[2019-01-24 16:42:01][FFExecutorD.executeLoop][Info][matto-dell][4717][ThreadId 199][funflow-1.4.0-KLdImYfU5mYAAbPXU2bOEB:Control.Funflow.External.Executor src/Control/Funflow/External/Executor.hs:181:9] Initialising connection to coordinator.\n",
       "Message: PublishDisplayData {header = MessageHeader {mhIdentifiers = [\"aff67426-81c2-49f3-a75b-dd4793b09a7d\"], mhParentHeader = Just (MessageHeader {mhIdentifiers = [\"aff67426-81c2-49f3-a75b-dd4793b09a7d\"], mhParentHeader = Nothing, mhMetadata = Metadata (fromList [(\"deletedCells\",Array []),(\"cellId\",String \"fe97d40f-3be3-44c5-8053-56358fa62843\")]), mhMessageId = UUID {uuidToString = \"e38a1a27-bbf5-4471-a739-9b83d42d49d0\"}, mhSessionId = UUID {uuidToString = \"aff67426-81c2-49f3-a75b-dd4793b09a7d\"}, mhUsername = \"\", mhMsgType = ExecuteRequestMessage}), mhMetadata = Metadata (fromList []), mhMessageId = UUID {uuidToString = \"c793b500-3f54-4a72-8f87-937c892d63ed\"}, mhSessionId = UUID {uuidToString = \"aff67426-81c2-49f3-a75b-dd4793b09a7d\"}, mhUsername = \"\", mhMsgType = DisplayDataMessage}, displayData = [DisplayData], transient = Nothing}\n",
       "Sent: \"{\\\"data\\\":{\\\"text/plain\\\":\\\"Hi, what's your name?\\\"},\\\"metadata\\\":{}}\"\n",
       "Message: ClearOutput {header = MessageHeader {mhIdentifiers = [\"aff67426-81c2-49f3-a75b-dd4793b09a7d\"], mhParentHeader = Just (MessageHeader {mhIdentifiers = [\"aff67426-81c2-49f3-a75b-dd4793b09a7d\"], mhParentHeader = Nothing, mhMetadata = Metadata (fromList [(\"deletedCells\",Array []),(\"cellId\",String \"fe97d40f-3be3-44c5-8053-56358fa62843\")]), mhMessageId = UUID {uuidToString = \"e38a1a27-bbf5-4471-a739-9b83d42d49d0\"}, mhSessionId = UUID {uuidToString = \"aff67426-81c2-49f3-a75b-dd4793b09a7d\"}, mhUsername = \"\", mhMsgType = ExecuteRequestMessage}), mhMetadata = Metadata (fromList []), mhMessageId = UUID {uuidToString = \"b8f92be7-ed5d-42f4-a08b-1d6cfcb707a7\"}, mhSessionId = UUID {uuidToString = \"aff67426-81c2-49f3-a75b-dd4793b09a7d\"}, mhUsername = \"\", mhMsgType = ClearOutputMessage}, wait = True}\n",
       "Sent: \"{\\\"wait\\\":true}\"\n",
       "Message: PublishDisplayData {header = MessageHeader {mhIdentifiers = [\"aff67426-81c2-49f3-a75b-dd4793b09a7d\"], mhParentHeader = Just (MessageHeader {mhIdentifiers = [\"aff67426-81c2-49f3-a75b-dd4793b09a7d\"], mhParentHeader = Nothing, mhMetadata = Metadata (fromList [(\"deletedCells\",Array []),(\"cellId\",String \"fe97d40f-3be3-44c5-8053-56358fa62843\")]), mhMessageId = UUID {uuidToString = \"e38a1a27-bbf5-4471-a739-9b83d42d49d0\"}, mhSessionId = UUID {uuidToString = \"aff67426-81c2-49f3-a75b-dd4793b09a7d\"}, mhUsername = \"\", mhMsgType = ExecuteRequestMessage}), mhMetadata = Metadata (fromList []), mhMessageId = UUID {uuidToString = \"2694fcd8-9b97-4e5a-8ed6-3ee08822cbfd\"}, mhSessionId = UUID {uuidToString = \"aff67426-81c2-49f3-a75b-dd4793b09a7d\"}, mhUsername = \"\", mhMsgType = DisplayDataMessage}, displayData = [DisplayData], transient = Nothing}\n",
       "Sent: \"{\\\"data\\\":{\\\"text/plain\\\":\\\"Hi, what's your name?\\\\n[2019-01-24 16:42:01][FFExecutorD.executeLoop][Info][matto-dell][4717][ThreadId 199][funflow-1.4.0-K\\\"},\\\"metadata\\\":{}}\"\n",
       "Message: ClearOutput {header = MessageHeader {mhIdentifiers = [\"aff67426-81c2-49f3-a75b-dd4793b09a7d\"], mhParentHeader = Just (MessageHeader {mhIdentifiers = [\"aff67426-81c2-49f3-a75b-dd4793b09a7d\"], mhParentHeader = Nothing, mhMetadata = Metadata (fromList [(\"deletedCells\",Array []),(\"cellId\",String \"fe97d40f-3be3-44c5-8053-56358fa62843\")]), mhMessageId = UUID {uuidToString = \"e38a1a27-bbf5-4471-a739-9b83d42d49d0\"}, mhSessionId = UUID {uuidToString = \"aff67426-81c2-49f3-a75b-dd4793b09a7d\"}, mhUsername = \"\", mhMsgType = ExecuteRequestMessage}), mhMetadata = Metadata (fromList []), mhMessageId = UUID {uuidToString = \"b5dd79e1-9fc5-4c6c-a45a-f6ea9d90341f\"}, mhSessionId = UUID {uuidToString = \"aff67426-81c2-49f3-a75b-dd4793b09a7d\"}, mhUsername = \"\", mhMsgType = ClearOutputMessage}, wait = True}\n",
       "Sent: \"{\\\"wait\\\":true}\"\n",
       "Message: PublishDisplayData {header = MessageHeader {mhIdentifiers = [\"aff67426-81c2-49f3-a75b-dd4793b09a7d\"], mhParentHeader = Just (MessageHeader {mhIdentifiers = [\"aff67426-81c2-49f3-a75b-dd4793b09a7d\"], mhParentHeader = Nothing, mhMetadata = Metadata (fromList [(\"deletedCells\",Array []),(\"cellId\",String \"fe97d40f-3be3-44c5-8053-56358fa62843\")]), mhMessageId = UUID {uuidToString = \"e38a1a27-bbf5-4471-a739-9b83d42d49d0\"}, mhSessionId = UUID {uuidToString = \"aff67426-81c2-49f3-a75b-dd4793b09a7d\"}, mhUsername = \"\", mhMsgType = ExecuteRequestMessage}), mhMetadata = Metadata (fromList []), mhMessageId = UUID {uuidToString = \"40bef16a-758c-4d90-8a0a-232caf19a8b4\"}, mhSessionId = UUID {uuidToString = \"aff67426-81c2-49f3-a75b-dd4793b09a7d\"}, mhUsername = \"\", mhMsgType = DisplayDataMessage}, displayData = [DisplayData], transient = Nothing}\n",
       "Sent: \"{\\\"data\\\":{\\\"text/plain\\\":\\\"Hi, what's your name?\\\\n[2019-01-24 16:42:01][FFExecutorD.executeLoop][Info][matto-dell][4717][ThreadId 199][funflow-1.4.0-KLdImYfU5mYAAbPXU2bOEB:Control.Funflow.External.Executor src/Control/Funflow/External/Executor.hs:181\\\"},\\\"metadata\\\":{}}\"\n",
       "Message: ClearOutput {header = MessageHeader {mhIdentifiers = [\"aff67426-81c2-49f3-a75b-dd4793b09a7d\"], mhParentHeader = Just (MessageHeader {mhIdentifiers = [\"aff67426-81c2-49f3-a75b-dd4793b09a7d\"], mhParentHeader = Nothing, mhMetadata = Metadata (fromList [(\"deletedCells\",Array []),(\"cellId\",Strin"
      ]
     },
     "metadata": {},
     "output_type": "display_data"
    }
   ],
   "source": [
    ":e Arrows\n",
    ":e QuasiQuotes\n",
    "import Control.Arrow\n",
    "import Control.Funflow\n",
    "import Control.Funflow.Exec.Simple (withSimpleLocalRunner)\n",
    "import Data.Default\n",
    "import Path\n",
    "\n",
    "-- | Flow which asks for the user's name, then their favourite number.\n",
    "--   The favourite number will be cached, such that if the user comes back,\n",
    "--   they will not be asked again.\n",
    "favouriteNumber :: SimpleFlow () (String, String)\n",
    "favouriteNumber = proc () -> do\n",
    "    name <- stepIO (\\_ -> putStrLn \"Hi, what's your name?\" >> getLine) -< ()\n",
    "    -- We enable caching for this step. The default cacher uses 'Store' instances\n",
    "    -- to provide serialisation/deserialisation. The ident is used to ensure that\n",
    "    -- multiple different steps with the same input do not resolve to the same\n",
    "    -- cache item.\n",
    "    fnum <- stepIO' (def { cache = defaultCacherWithIdent 172652 })\n",
    "                  (\\_ -> putStrLn \"What's your favourite number?\" >> getLine) -< name\n",
    "    returnA -< (name, fnum)\n",
    "\n",
    "-- | Runs the 'favourite number' flow in IO.\n",
    "\n",
    "-- Use /tmp/funflow as the path to our content store.\n",
    "-- | Runs the 'favourite number' flow in IO.\n",
    "runFavouriteNumber :: IO ()\n",
    "runFavouriteNumber = do\n",
    "  -- Use /tmp/funflow as the path to our content store.\n",
    "  res <- withSimpleLocalRunner [absdir|/tmp/funflow|] $ \\run ->\n",
    "    -- 'run' takes the flow and the initial input. Since this flow has an input type of '()',\n",
    "    -- this is what we provide.\n",
    "    run favouriteNumber ()\n",
    "  case res of\n",
    "    Left err -> putStrLn $ \"Something went wrong: \" ++ show err\n",
    "    Right (name, num) -> putStrLn $ \"Hi, \" ++ name ++ \", your favourite number is \" ++ num\n",
    "    \n",
    "runFavouriteNumber"
   ]
  }
 ],
 "metadata": {
  "kernelspec": {
   "display_name": "Haskell - Funflow",
   "language": "haskell",
   "name": "ihaskell_funflow"
  },
  "language_info": {
   "codemirror_mode": "ihaskell",
   "file_extension": ".hs",
   "name": "haskell",
   "pygments_lexer": "Haskell",
   "version": "8.4.4"
  }
 },
 "nbformat": 4,
 "nbformat_minor": 2
}
