{
 "cells": [
  {
   "cell_type": "markdown",
   "metadata": {},
   "source": [
    "# a gentle exploration tour through the Monad-Bayes library\n",
    "\n",
    "https://github.com/adscib/monad-bayes"
   ]
  },
  {
   "cell_type": "code",
   "execution_count": 55,
   "metadata": {},
   "outputs": [],
   "source": [
    ":e OverloadedStrings\n",
    "\n",
    "import qualified Graphics.Vega.VegaLite as VL\n",
    "import Graphics.Vega.VegaLite hiding (filter)\n",
    "import IHaskell.Display.Hvega (vlShow)\n",
    "import Data.Aeson (ToJSON(toJSON), Value)\n",
    "import Data.Aeson (encode)\n",
    "import qualified Data.ByteString.Lazy.Char8 as BL\n",
    "\n",
    "import Control.Monad (liftM2)\n",
    "import Control.Monad.IO.Class (liftIO)\n",
    "import Control.Monad.Bayes.Class\n",
    "import Control.Monad.Bayes.Sampler\n",
    "import Control.Monad.Bayes.Sequential\n",
    "import Control.Monad.Bayes.Population\n",
    "import Control.Monad.Bayes.Inference.SMC\n",
    "\n",
    "barPlot :: [Int] -> VegaLite\n",
    "barPlot dataSamples = \n",
    "  let desc = description \"Probability Games\"\n",
    "      dat = dataFromColumns []\n",
    "          . dataColumn \"Result\" (Numbers (map fromIntegral dataSamples))\n",
    "      conf = configure\n",
    "        . configuration (Axis [ DomainWidth 1 ])\n",
    "        . configuration (BarStyle [ MContinuousBandSize 20 ])\n",
    "        . configuration (SelectionStyle [ ( Single, [ On \"dblclick\" ] ) ])\n",
    "      barOpts = [MOpacity 0.4, MColor \"blue\"]\n",
    "      enc = encoding\n",
    "            . position X [PName \"Result\", PmType Quantitative, PAxis [AxGrid True, AxTitle \"Toss Value\"]]\n",
    "            . position Y [PAggregate Count, PmType Quantitative, PAxis [AxGrid False]]\n",
    "  in toVegaLite [desc, width 600, height 200, dat [], conf [], mark Bar barOpts, enc []]"
   ]
  },
  {
   "cell_type": "markdown",
   "metadata": {},
   "source": [
    "## Modelling Dice"
   ]
  },
  {
   "cell_type": "code",
   "execution_count": 48,
   "metadata": {},
   "outputs": [],
   "source": [
    "-- A toy model for dice rolling from http://dl.acm.org/citation.cfm?id=2804317\n",
    "-- Exact results can be obtained using Dist monad\n",
    "\n",
    "-- | A toss of a six-sided die.\n",
    "die :: MonadSample m => m Int\n",
    "die = uniformD [1..6]\n",
    "\n",
    "-- | A sum of outcomes of n independent tosses of six-sided dice.\n",
    "dice :: MonadSample m => Int -> m Int\n",
    "dice 1 = die\n",
    "dice n = liftM2 (+) die (dice (n-1))\n",
    "\n",
    "-- | Toss of two dice where the output is greater than 4.\n",
    "dice_hard :: MonadInfer m => m Int\n",
    "dice_hard = do\n",
    "  result <- dice 2\n",
    "  condition (result > 4)\n",
    "  return result"
   ]
  },
  {
   "cell_type": "code",
   "execution_count": 49,
   "metadata": {},
   "outputs": [],
   "source": [
    "takeFromModel :: Int -> Sequential (Population SamplerIO) a -> IO [a]\n",
    "takeFromModel nsamples inModel = sampleIOfixed $ do\n",
    "    res <- runPopulation $ smcMultinomial 0 nsamples inModel\n",
    "    return $ map fst res"
   ]
  },
  {
   "cell_type": "code",
   "execution_count": 50,
   "metadata": {},
   "outputs": [
    {
     "data": {
      "text/plain": [
       "[3,7,10,6,7,9,5,7,6,8,11,11,4,7,10,11,8,8,6,7]"
      ]
     },
     "metadata": {},
     "output_type": "display_data"
    }
   ],
   "source": [
    "takeFromModel 20 dice_hard"
   ]
  },
  {
   "cell_type": "markdown",
   "metadata": {},
   "source": [
    "## Two alternating distributions"
   ]
  },
  {
   "cell_type": "code",
   "execution_count": 51,
   "metadata": {},
   "outputs": [],
   "source": [
    "prior :: MonadSample m => m Double\n",
    "prior = return 0.2\n",
    "\n",
    "modelFalse :: MonadSample m => m Int\n",
    "modelFalse = uniformD ([1, 2, 3, 4, 5, 6, 7, 8, 9, 10, 11, 12] :: [Int])\n",
    "\n",
    "modelTrue :: MonadSample m => m Int\n",
    "modelTrue = do\n",
    "  x <- bernoulli 0.5\n",
    "  y <- uniformD (if x then [1, 2] else [11, 12] :: [Int])\n",
    "  return y"
   ]
  },
  {
   "cell_type": "code",
   "execution_count": 54,
   "metadata": {},
   "outputs": [
    {
     "data": {
      "application/vnd.vegalite.v2+json": {
       "$schema": "https://vega.github.io/schema/vega-lite/v2.json",
       "config": {
        "axis": {
         "domainWidth": 1
        },
        "bar": {
         "continuousBandSize": 20
        },
        "selection": {
         "single": {
          "on": "dblclick"
         }
        }
       },
       "data": {
        "values": [
         {
          "Result": 2
         },
         {
          "Result": 11
         },
         {
          "Result": 2
         },
         {
          "Result": 11
         },
         {
          "Result": 12
         },
         {
          "Result": 1
         },
         {
          "Result": 12
         },
         {
          "Result": 12
         },
         {
          "Result": 1
         },
         {
          "Result": 2
         },
         {
          "Result": 11
         },
         {
          "Result": 11
         },
         {
          "Result": 12
         },
         {
          "Result": 12
         },
         {
          "Result": 2
         },
         {
          "Result": 12
         },
         {
          "Result": 11
         },
         {
          "Result": 11
         },
         {
          "Result": 2
         },
         {
          "Result": 1
         }
        ]
       },
       "description": "Probability Games",
       "encoding": {
        "x": {
         "axis": {
          "grid": true,
          "title": "Toss Value"
         },
         "field": "Result",
         "type": "quantitative"
        },
        "y": {
         "aggregate": "count",
         "axis": {
          "grid": false
         },
         "type": "quantitative"
        }
       },
       "height": 200,
       "mark": {
        "color": "blue",
        "opacity": 0.4,
        "type": "bar"
       },
       "width": 600
      },
      "image/png": "[encoded data removed]"
     },
     "metadata": {},
     "output_type": "display_data"
    }
   ],
   "source": [
    "samples <- sampleToList 20 modelTrue\n",
    "vlShow $ barPlot samples"
   ]
  }
 ],
 "metadata": {
  "kernelspec": {
   "display_name": "Haskell - bayes-monad",
   "language": "haskell",
   "name": "ihaskell_bayes-monad"
  },
  "language_info": {
   "codemirror_mode": "ihaskell",
   "file_extension": ".hs",
   "name": "haskell",
   "pygments_lexer": "Haskell",
   "version": "8.4.4"
  }
 },
 "nbformat": 4,
 "nbformat_minor": 2
}
